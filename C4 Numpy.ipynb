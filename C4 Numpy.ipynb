{
 "cells": [
  {
   "cell_type": "markdown",
   "id": "da9cd1f5",
   "metadata": {},
   "source": [
    "# Chapter 4\n",
    "## NumPy Basics: Arrays and Vectorized Computation\n",
    "- efficient array package\n",
    "- many packages depends on numpy\n",
    "\n",
    "### Our focus:\n",
    "- Fast array-based operations for data munging and cleaning, subsetting and filtering, transformation, and any other kind of computation\n",
    "- Common array algorithms like sorting, unique, and set operations\n",
    "- Efficient descriptive statistics and aggregating/summarizing data\n",
    "- Data alignment and relational data manipulations for merging and joining heterogeneous datasets\n",
    "- Expressing conditional logic as array expressions instead of loops with if-elif-else branches\n",
    "- Group-wise data manipulations (aggregation, transformation, and function application)"
   ]
  },
  {
   "cell_type": "code",
   "execution_count": 1,
   "id": "c9140ca8",
   "metadata": {},
   "outputs": [],
   "source": [
    "import numpy as np\n",
    "array = np.arange(1_000_000) # we can add _ for readability!\n",
    "l = [x for x in range(1_000_000)]"
   ]
  },
  {
   "cell_type": "code",
   "execution_count": 17,
   "id": "1b57f34c",
   "metadata": {},
   "outputs": [],
   "source": [
    "%timeit?\n",
    "# https://stackoverflow.com/questions/48258008/n-and-r-arguments-to-ipythons-timeit-magic/59543135#59543135\n",
    "# gives an explanation of why there are runs and loops (measurement error of clock basically?)"
   ]
  },
  {
   "cell_type": "code",
   "execution_count": 2,
   "id": "63281939",
   "metadata": {},
   "outputs": [
    {
     "name": "stdout",
     "output_type": "stream",
     "text": [
      "1.14 ms ± 24.5 µs per loop (mean ± std. dev. of 7 runs, 1,000 loops each)\n",
      "61.1 ms ± 595 µs per loop (mean ± std. dev. of 7 runs, 10 loops each)\n"
     ]
    }
   ],
   "source": [
    "# now lets time when do some operation to see efficiency difference\n",
    "%timeit array2 = array*2\n",
    "%timeit l2 = [x*2 for x in l]"
   ]
  },
  {
   "cell_type": "code",
   "execution_count": 4,
   "id": "8a7ab9f3",
   "metadata": {},
   "outputs": [
    {
     "data": {
      "text/plain": [
       "53.59649122807018"
      ]
     },
     "execution_count": 4,
     "metadata": {},
     "output_type": "execute_result"
    }
   ],
   "source": [
    "61.1/1.14 # 50 times faster with numpy than built-in list!"
   ]
  },
  {
   "cell_type": "markdown",
   "id": "bc5568fc",
   "metadata": {},
   "source": [
    "### Conclusion: Numpy arrays are much faster than lists (at least for vectorized computations!)"
   ]
  },
  {
   "cell_type": "code",
   "execution_count": 6,
   "id": "336c8111",
   "metadata": {},
   "outputs": [
    {
     "data": {
      "text/plain": [
       "array([[ 1.5, -0.1,  3. ],\n",
       "       [ 0. , -3. ,  6.5]])"
      ]
     },
     "execution_count": 6,
     "metadata": {},
     "output_type": "execute_result"
    }
   ],
   "source": [
    "ar = np.array([[1.5, -0.1, 3], \n",
    "               [0, -3, 6.5]])\n",
    "ar"
   ]
  },
  {
   "cell_type": "markdown",
   "id": "08c7230e",
   "metadata": {},
   "source": [
    "A ndarray is a container meant for for homogeneous data - all elements ought to be the same"
   ]
  },
  {
   "cell_type": "code",
   "execution_count": 7,
   "id": "011b26d2",
   "metadata": {},
   "outputs": [
    {
     "data": {
      "text/plain": [
       "dtype('float64')"
      ]
     },
     "execution_count": 7,
     "metadata": {},
     "output_type": "execute_result"
    }
   ],
   "source": [
    "ar.dtype"
   ]
  },
  {
   "cell_type": "markdown",
   "id": "727b31b0",
   "metadata": {},
   "source": [
    "we can create an array with mixed types, the numpy array then gets a mixed dtype which many methods will not accept"
   ]
  },
  {
   "cell_type": "code",
   "execution_count": 8,
   "id": "8aed7542",
   "metadata": {},
   "outputs": [
    {
     "ename": "UFuncTypeError",
     "evalue": "ufunc 'multiply' did not contain a loop with signature matching types (dtype('<U11'), dtype('int32')) -> None",
     "output_type": "error",
     "traceback": [
      "\u001b[1;31m---------------------------------------------------------------------------\u001b[0m",
      "\u001b[1;31mUFuncTypeError\u001b[0m                            Traceback (most recent call last)",
      "Input \u001b[1;32mIn [8]\u001b[0m, in \u001b[0;36m<cell line: 3>\u001b[1;34m()\u001b[0m\n\u001b[0;32m      1\u001b[0m numpy_arr \u001b[38;5;241m=\u001b[39m np\u001b[38;5;241m.\u001b[39marray([\u001b[38;5;241m1\u001b[39m,\u001b[38;5;241m2\u001b[39m,\u001b[38;5;124m\"\u001b[39m\u001b[38;5;124mHello\u001b[39m\u001b[38;5;124m\"\u001b[39m,\u001b[38;5;241m3\u001b[39m,\u001b[38;5;124m\"\u001b[39m\u001b[38;5;124mWorld\u001b[39m\u001b[38;5;124m\"\u001b[39m])\n\u001b[0;32m      2\u001b[0m numpy_arr\u001b[38;5;241m.\u001b[39mdtype\n\u001b[1;32m----> 3\u001b[0m \u001b[43mnumpy_arr\u001b[49m\u001b[38;5;241;43m*\u001b[39;49m\u001b[38;5;241;43m2\u001b[39;49m\n",
      "\u001b[1;31mUFuncTypeError\u001b[0m: ufunc 'multiply' did not contain a loop with signature matching types (dtype('<U11'), dtype('int32')) -> None"
     ]
    }
   ],
   "source": [
    "numpy_arr = np.array([1,2,\"Hello\",3,\"World\"])\n",
    "numpy_arr.dtype\n",
    "numpy_arr*2"
   ]
  },
  {
   "cell_type": "markdown",
   "id": "bd4ead4b",
   "metadata": {},
   "source": [
    "### Creating a ndarray"
   ]
  },
  {
   "cell_type": "code",
   "execution_count": 9,
   "id": "77b244e4",
   "metadata": {},
   "outputs": [
    {
     "data": {
      "text/plain": [
       "array([[6. , 7.5, 8. , 0. , 1. ],\n",
       "       [6. , 7.5, 8. , 0. , 1. ]])"
      ]
     },
     "execution_count": 9,
     "metadata": {},
     "output_type": "execute_result"
    }
   ],
   "source": [
    "# we can write\n",
    "ar = np.array([6, 7.5, 8, 0, 1])\n",
    "\n",
    "# or\n",
    "l = [6, 7.5, 8, 0, 1]\n",
    "np.array(l)\n",
    "\n",
    "# 2-dim\n",
    "ar2d = np.array([[6, 7.5, 8, 0, 1],[6, 7.5, 8, 0, 1]])\n",
    "\n",
    "# or\n",
    "l = [6, 7.5, 8, 0, 1], [6, 7.5, 8, 0, 1]\n",
    "np.array(l)"
   ]
  },
  {
   "cell_type": "markdown",
   "id": "b31c1079",
   "metadata": {},
   "source": [
    "- ndarrays have data types which can be seen by type .dtype\n",
    "- unless explicitly stating np.array(..., dtype= wanted type ) then a dtype is inferred from the inputs\n",
    "- dtypes can be changed using 'astype'-method"
   ]
  },
  {
   "cell_type": "code",
   "execution_count": 10,
   "id": "f8d18a1c",
   "metadata": {},
   "outputs": [
    {
     "name": "stdout",
     "output_type": "stream",
     "text": [
      "int32\n",
      "float64\n"
     ]
    }
   ],
   "source": [
    "arr = np.array([1, 2, 3, 4, 5])\n",
    "print(arr.dtype)\n",
    "arr_new = arr.astype(np.float64)\n",
    "print(arr_new.dtype)"
   ]
  },
  {
   "cell_type": "markdown",
   "id": "37107050",
   "metadata": {},
   "source": [
    "One might have to convert an array of strings representing numbers as follows:"
   ]
  },
  {
   "cell_type": "code",
   "execution_count": 79,
   "id": "62538088",
   "metadata": {},
   "outputs": [
    {
     "data": {
      "text/plain": [
       "array([ 1.25, -9.6 , 42.  ])"
      ]
     },
     "execution_count": 79,
     "metadata": {},
     "output_type": "execute_result"
    }
   ],
   "source": [
    "numeric_strings = np.array([\"1.25\", \"-9.6\", \"42\"], dtype=np.string_)\n",
    "numeric_strings.astype(float)"
   ]
  },
  {
   "cell_type": "markdown",
   "id": "7750c3f0",
   "metadata": {},
   "source": [
    "### Shapes and pre-filled ndarrays:"
   ]
  },
  {
   "cell_type": "code",
   "execution_count": 47,
   "id": "d862e148",
   "metadata": {},
   "outputs": [
    {
     "data": {
      "text/plain": [
       "(2, 5)"
      ]
     },
     "execution_count": 47,
     "metadata": {},
     "output_type": "execute_result"
    }
   ],
   "source": [
    "# getting the shape of a ndarray\n",
    "ar2d.shape"
   ]
  },
  {
   "cell_type": "code",
   "execution_count": 81,
   "id": "cc76ffca",
   "metadata": {},
   "outputs": [
    {
     "data": {
      "text/plain": [
       "array([0, 1, 2, 3, 4, 5, 6, 7, 8, 9])"
      ]
     },
     "execution_count": 81,
     "metadata": {},
     "output_type": "execute_result"
    }
   ],
   "source": [
    "np.arange(10) # works like [x for x in range(10)]"
   ]
  },
  {
   "cell_type": "code",
   "execution_count": 71,
   "id": "427ab49d",
   "metadata": {},
   "outputs": [
    {
     "name": "stdout",
     "output_type": "stream",
     "text": [
      "[0. 0. 0. 0. 0. 0. 0. 0. 0. 0.]\n",
      "[1. 1. 1. 1. 1. 1. 1. 1. 1. 1.] \n",
      "\n",
      "[[1. 1. 1. 1. 1.]\n",
      " [1. 1. 1. 1. 1.]\n",
      " [1. 1. 1. 1. 1.]\n",
      " [1. 1. 1. 1. 1.]\n",
      " [1. 1. 1. 1. 1.]] \n",
      "\n",
      "[[1. 0. 0.]\n",
      " [0. 1. 0.]\n",
      " [0. 0. 1.]]\n"
     ]
    }
   ],
   "source": [
    "print( np.zeros(10) )\n",
    "print( np.ones(10), '\\n' )\n",
    "print( np.ones((5,5)), '\\n')\n",
    "print( np.eye(3,3) )"
   ]
  },
  {
   "cell_type": "markdown",
   "id": "49494b46",
   "metadata": {},
   "source": [
    "### Arithmetic\n",
    "no for loops needed, we can do batch operations called vectorization in numpy"
   ]
  },
  {
   "cell_type": "code",
   "execution_count": 83,
   "id": "39fb58ba",
   "metadata": {},
   "outputs": [
    {
     "data": {
      "text/plain": [
       "array([[1., 2., 3.],\n",
       "       [4., 5., 6.]])"
      ]
     },
     "execution_count": 83,
     "metadata": {},
     "output_type": "execute_result"
    }
   ],
   "source": [
    "arr = np.array([[1., 2., 3.], \n",
    "                [4., 5., 6.]])\n",
    "arr"
   ]
  },
  {
   "cell_type": "code",
   "execution_count": 89,
   "id": "d22e71bc",
   "metadata": {},
   "outputs": [
    {
     "name": "stdout",
     "output_type": "stream",
     "text": [
      "[[ 2.  4.  6.]\n",
      " [ 8. 10. 12.]] \n",
      "\n",
      "[[ 1.  4.  9.]\n",
      " [16. 25. 36.]] \n",
      "\n",
      "[[1.         0.5        0.33333333]\n",
      " [0.25       0.2        0.16666667]] \n",
      "\n"
     ]
    },
    {
     "data": {
      "text/plain": [
       "array([[False,  True,  True],\n",
       "       [ True,  True,  True]])"
      ]
     },
     "execution_count": 89,
     "metadata": {},
     "output_type": "execute_result"
    }
   ],
   "source": [
    "print(arr + arr, '\\n') # elementwise\n",
    "print(arr**2, '\\n') # elementwise\n",
    "print(1/arr, '\\n') # elementwise\n",
    "\n",
    "arr*1/2 > 1/arr # elementwise comparison\n"
   ]
  },
  {
   "cell_type": "markdown",
   "id": "8e57b192",
   "metadata": {},
   "source": [
    "### indexing and slicing"
   ]
  },
  {
   "cell_type": "code",
   "execution_count": 95,
   "id": "af56b714",
   "metadata": {},
   "outputs": [
    {
     "name": "stdout",
     "output_type": "stream",
     "text": [
      "0 \n",
      "\n",
      "[2 3 4 5 6] \n",
      "\n"
     ]
    }
   ],
   "source": [
    "arr = np.arange(10)\n",
    "print(arr[0], '\\n')\n",
    "print(arr[2:7], '\\n')"
   ]
  },
  {
   "cell_type": "markdown",
   "id": "aaedddcb",
   "metadata": {},
   "source": [
    "- a difference between built-in list is that data is not copied, but slices refer to the corresponding part of the ndarray, a change to the slice changes the ndarray, see the following"
   ]
  },
  {
   "cell_type": "code",
   "execution_count": 100,
   "id": "64cc9252",
   "metadata": {},
   "outputs": [
    {
     "name": "stdout",
     "output_type": "stream",
     "text": [
      "[12 12 12]\n",
      "[12 12 12]\n",
      "[12 12 12]\n",
      "[   0    1    2    3    4   12 1000   12    8    9]\n"
     ]
    }
   ],
   "source": [
    "print(arr[5:8])\n",
    "\n",
    "arr_slice = arr[5:8]\n",
    "print(arr_slice)\n",
    "\n",
    "arr[5:8] = 12\n",
    "print(arr_slice)\n",
    "\n",
    "arr_slice[1]=1000\n",
    "print(arr)"
   ]
  },
  {
   "cell_type": "markdown",
   "id": "0acd0ebd",
   "metadata": {},
   "source": [
    "- if we instead want a copy we use the .copy() method"
   ]
  },
  {
   "cell_type": "code",
   "execution_count": 103,
   "id": "f8d5b8ac",
   "metadata": {},
   "outputs": [
    {
     "data": {
      "text/plain": [
       "array([0, 1, 2, 3, 4, 5, 6, 7, 8, 9])"
      ]
     },
     "execution_count": 103,
     "metadata": {},
     "output_type": "execute_result"
    }
   ],
   "source": [
    "arr = np.arange(10)\n",
    "arr_copy = arr.copy()\n",
    "arr[0] = 100\n",
    "arr_copy # remains unchanged!"
   ]
  },
  {
   "cell_type": "markdown",
   "id": "60670921",
   "metadata": {},
   "source": [
    "### 2dim"
   ]
  },
  {
   "cell_type": "code",
   "execution_count": 104,
   "id": "2a62fb17",
   "metadata": {},
   "outputs": [
    {
     "data": {
      "text/plain": [
       "array([[1, 2, 3],\n",
       "       [4, 5, 6],\n",
       "       [7, 8, 9]])"
      ]
     },
     "execution_count": 104,
     "metadata": {},
     "output_type": "execute_result"
    }
   ],
   "source": [
    "arr2d = np.array([[1, 2, 3], [4, 5, 6], [7, 8, 9]])\n",
    "arr2d"
   ]
  },
  {
   "cell_type": "code",
   "execution_count": 105,
   "id": "f9ca5b8b",
   "metadata": {},
   "outputs": [
    {
     "data": {
      "text/plain": [
       "array([1, 2, 3])"
      ]
     },
     "execution_count": 105,
     "metadata": {},
     "output_type": "execute_result"
    }
   ],
   "source": [
    "arr2d[0]"
   ]
  },
  {
   "cell_type": "code",
   "execution_count": 106,
   "id": "244dd4c3",
   "metadata": {},
   "outputs": [
    {
     "data": {
      "text/plain": [
       "1"
      ]
     },
     "execution_count": 106,
     "metadata": {},
     "output_type": "execute_result"
    }
   ],
   "source": [
    "arr2d[0,0]"
   ]
  },
  {
   "cell_type": "code",
   "execution_count": 108,
   "id": "dbac1462",
   "metadata": {},
   "outputs": [
    {
     "data": {
      "text/plain": [
       "True"
      ]
     },
     "execution_count": 108,
     "metadata": {},
     "output_type": "execute_result"
    }
   ],
   "source": [
    "arr2d[0,0]==arr2d[0][0]"
   ]
  },
  {
   "cell_type": "code",
   "execution_count": 25,
   "id": "7dfe0bad",
   "metadata": {},
   "outputs": [
    {
     "name": "stdout",
     "output_type": "stream",
     "text": [
      "[ 0  1  2  3  4  5  6  7  8  9 10 11 12 13 14] \n",
      "\n",
      "[[ 0  1  2  3  4]\n",
      " [ 5  6  7  8  9]\n",
      " [10 11 12 13 14]] \n",
      "\n",
      "[ 0  1  2  3  4  5  6  7  8  9 10 11 12 13 14]\n"
     ]
    }
   ],
   "source": [
    "arr = np.arange(15)\n",
    "print(arr , '\\n')  \n",
    "\n",
    "print(arr.reshape((3, 5)) , '\\n')\n",
    "                  \n",
    "print(arr.T)"
   ]
  },
  {
   "cell_type": "markdown",
   "id": "9bde2a6b",
   "metadata": {},
   "source": [
    "## Pseudo RNG"
   ]
  },
  {
   "cell_type": "code",
   "execution_count": null,
   "id": "1db369a5",
   "metadata": {},
   "outputs": [],
   "source": [
    "samples = np.random.standard_normal(size=(4, 4))\n",
    "samples"
   ]
  },
  {
   "cell_type": "markdown",
   "id": "59b652f8",
   "metadata": {},
   "source": [
    "Python's random module samples one value at a time while numpy generates a vector. Let's see the difference in efficiency for a large sample."
   ]
  },
  {
   "cell_type": "code",
   "execution_count": 49,
   "id": "0be52502",
   "metadata": {},
   "outputs": [
    {
     "name": "stdout",
     "output_type": "stream",
     "text": [
      "675 ms ± 11.5 ms per loop (mean ± std. dev. of 7 runs, 1 loop each)\n",
      "20.6 ms ± 525 µs per loop (mean ± std. dev. of 7 runs, 10 loops each)\n"
     ]
    }
   ],
   "source": [
    "from random import normalvariate\n",
    "N = 1_000_000\n",
    "%timeit samples = [normalvariate(0,1) for _ in range(N)]\n",
    "%timeit np.random.standard_normal(N)"
   ]
  },
  {
   "cell_type": "markdown",
   "id": "e91275fd",
   "metadata": {},
   "source": [
    "### Conclusion: Use numpy for large samples."
   ]
  },
  {
   "cell_type": "markdown",
   "id": "edf3fe29",
   "metadata": {},
   "source": [
    "### VECTORIZATION: The practice of replacing loops with array expressions. Usually siginficantly faster."
   ]
  },
  {
   "cell_type": "code",
   "execution_count": 65,
   "id": "6d2c49f7",
   "metadata": {},
   "outputs": [
    {
     "data": {
      "text/plain": [
       "Text(0.5, 1.0, 'Image plot of $\\\\sqrt{x^2 + y^2}$')"
      ]
     },
     "execution_count": 65,
     "metadata": {},
     "output_type": "execute_result"
    },
    {
     "data": {
      "image/png": "[encoded data removed]",
      "text/plain": [
       "<Figure size 432x288 with 2 Axes>"
      ]
     },
     "metadata": {
      "needs_background": "light"
     },
     "output_type": "display_data"
    }
   ],
   "source": [
    "points= np.arange(-5,5,0.01) # equally space points starting at -5 and ending at 5 with distance 0.01 between\n",
    "xs, ys = np.meshgrid(points, points) # Cartesian product\n",
    "zs = np.sqrt(xs**2 + ys**2)\n",
    "\n",
    "# plotting preview\n",
    "import matplotlib.pyplot as plt\n",
    "plt.imshow(zs, cmap=plt.cm.gray, extent=[-5,5,-5,5])\n",
    "plt.colorbar()\n",
    "plt.title(\"Image plot of $\\sqrt{x^2 + y^2}$\")"
   ]
  },
  {
   "cell_type": "code",
   "execution_count": 66,
   "id": "1b9bdb27",
   "metadata": {},
   "outputs": [],
   "source": [
    "plt.close(\"all\")"
   ]
  },
  {
   "cell_type": "code",
   "execution_count": 76,
   "id": "bfbf2bbc",
   "metadata": {},
   "outputs": [
    {
     "data": {
      "text/plain": [
       "array([[-1,  1, -1,  1],\n",
       "       [ 1, -1, -1, -1],\n",
       "       [ 1, -1, -1, -1],\n",
       "       [ 1, -1,  1,  1]])"
      ]
     },
     "execution_count": 76,
     "metadata": {},
     "output_type": "execute_result"
    }
   ],
   "source": [
    "arr = np.random.standard_normal((4, 4))\n",
    "cond = arr > 0\n",
    "np.where(cond, 1, -1) # where(condition, if condition, else)\n"
   ]
  },
  {
   "cell_type": "markdown",
   "id": "bf8bdd37",
   "metadata": {},
   "source": [
    "## Mathematical and Statistical Methods / Aggregations"
   ]
  },
  {
   "cell_type": "code",
   "execution_count": 97,
   "id": "dd8245ea",
   "metadata": {},
   "outputs": [
    {
     "name": "stdout",
     "output_type": "stream",
     "text": [
      "[[-1.42382504  1.26372846 -0.87066174 -0.25917323]\n",
      " [-0.07534331 -0.74088465 -1.3677927   0.6488928 ]\n",
      " [ 0.36105811 -1.95286306  2.34740965  0.96849691]\n",
      " [-0.75938718  0.90219827 -0.46695317 -0.06068952]\n",
      " [ 0.78884434 -1.25666813  0.57585751  1.39897899]] \n",
      "\n",
      "0.021223322497782027 \n",
      "\n",
      "0.0010611661248891013 \n",
      "\n",
      "-0.22173061326311264 \n",
      "\n"
     ]
    },
    {
     "data": {
      "text/plain": [
       "array([1.00418239, 0.75122417, 1.55315999, 0.6275618 , 0.99026164])"
      ]
     },
     "execution_count": 97,
     "metadata": {},
     "output_type": "execute_result"
    }
   ],
   "source": [
    "rng = np.random.default_rng(seed=12345) # generator object with seed for re-producability\n",
    "arr = rng.standard_normal((5, 4))\n",
    "print(arr,'\\n')\n",
    "\n",
    "print(np.sum(arr),'\\n')\n",
    "print(np.mean(arr),'\\n')\n",
    "print(np.mean(arr[:,0]),'\\n')\n",
    "\n",
    "np.std(arr, axis=1) # standard deviation along rows"
   ]
  },
  {
   "cell_type": "code",
   "execution_count": 118,
   "id": "17510176",
   "metadata": {},
   "outputs": [
    {
     "data": {
      "text/plain": [
       "47"
      ]
     },
     "execution_count": 118,
     "metadata": {},
     "output_type": "execute_result"
    }
   ],
   "source": [
    "#rng = np.random.default_rng(seed=12345) # Seed has to be set a-new for reproducability\n",
    "arr = rng.standard_normal(100) \n",
    "(arr>0).sum() # n pos values"
   ]
  },
  {
   "cell_type": "code",
   "execution_count": 120,
   "id": "9cc177f8",
   "metadata": {},
   "outputs": [
    {
     "name": "stdout",
     "output_type": "stream",
     "text": [
      "True\n",
      "False\n"
     ]
    }
   ],
   "source": [
    "bools = np.array([False, False, True, False])\n",
    "print(bools.any()) #returns 'True' if any true #or\n",
    "print(bools.all()) #returns 'True' if all true #and"
   ]
  },
  {
   "cell_type": "markdown",
   "id": "3cead6ed",
   "metadata": {},
   "source": [
    "### Sorting"
   ]
  },
  {
   "cell_type": "code",
   "execution_count": 124,
   "id": "5632246d",
   "metadata": {},
   "outputs": [
    {
     "data": {
      "text/plain": [
       "array([-1.42382504,  1.26372846, -0.87066174, -0.25917323, -0.07534331,\n",
       "       -0.74088465])"
      ]
     },
     "execution_count": 124,
     "metadata": {},
     "output_type": "execute_result"
    }
   ],
   "source": [
    "#rng = np.random.default_rng(seed=12345)\n",
    "arr = np.random.default_rng(seed=12345).standard_normal(6)\n",
    "arr"
   ]
  },
  {
   "cell_type": "code",
   "execution_count": 130,
   "id": "6a753e0c",
   "metadata": {},
   "outputs": [
    {
     "data": {
      "text/plain": [
       "array([[-1.41229201, -1.22867499, -1.20938829],\n",
       "       [-0.95898831, -0.65876032,  0.25755777],\n",
       "       [-0.13081169, -0.09296246,  0.7519394 ],\n",
       "       [-0.06615089,  0.31290292,  0.77736134],\n",
       "       [ 0.54154683,  0.8286332 ,  1.26998312]])"
      ]
     },
     "execution_count": 130,
     "metadata": {},
     "output_type": "execute_result"
    }
   ],
   "source": [
    "arr.sort() # sorts the object arr, that is, modifies the existing object\n",
    "arr"
   ]
  },
  {
   "cell_type": "code",
   "execution_count": 129,
   "id": "fb12984b",
   "metadata": {},
   "outputs": [
    {
     "name": "stdout",
     "output_type": "stream",
     "text": [
      "[[ 0.77736134  0.8286332  -0.95898831]\n",
      " [-1.20938829 -1.41229201  0.54154683]\n",
      " [ 0.7519394  -0.65876032 -1.22867499]\n",
      " [ 0.25755777  0.31290292 -0.13081169]\n",
      " [ 1.26998312 -0.09296246 -0.06615089]]\n"
     ]
    },
    {
     "data": {
      "text/plain": [
       "array([[-1.20938829, -1.41229201, -1.22867499],\n",
       "       [ 0.25755777, -0.65876032, -0.95898831],\n",
       "       [ 0.7519394 , -0.09296246, -0.13081169],\n",
       "       [ 0.77736134,  0.31290292, -0.06615089],\n",
       "       [ 1.26998312,  0.8286332 ,  0.54154683]])"
      ]
     },
     "execution_count": 129,
     "metadata": {},
     "output_type": "execute_result"
    }
   ],
   "source": [
    "arr = rng.standard_normal((5, 3))\n",
    "print(arr)\n",
    "arr.sort(axis=0) # sort along each column \n",
    "arr"
   ]
  },
  {
   "cell_type": "markdown",
   "id": "66def2fb",
   "metadata": {},
   "source": [
    "### Unique and Other SET LOGIC"
   ]
  },
  {
   "cell_type": "code",
   "execution_count": null,
   "id": "f08b5f03",
   "metadata": {},
   "outputs": [],
   "source": []
  }
 ],
 "metadata": {
  "kernelspec": {
   "display_name": "Python 3 (ipykernel)",
   "language": "python",
   "name": "python3"
  },
  "language_info": {
   "codemirror_mode": {
    "name": "ipython",
    "version": 3
   },
   "file_extension": ".py",
   "mimetype": "text/x-python",
   "name": "python",
   "nbconvert_exporter": "python",
   "pygments_lexer": "ipython3",
   "version": "3.9.12"
  }
 },
 "nbformat": 4,
 "nbformat_minor": 5
}
