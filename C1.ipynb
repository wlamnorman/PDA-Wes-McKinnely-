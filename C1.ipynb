{
 "cells": [
  {
   "cell_type": "markdown",
   "id": "9d0815a1",
   "metadata": {},
   "source": [
    "# Wes McKinney - Python for Data Analysis\n",
    "### Notes and playing around with the material\n",
    "----------------------------------------------------------------------------------------------------"
   ]
  },
  {
   "cell_type": "markdown",
   "id": "64188db5",
   "metadata": {},
   "source": [
    "### Numpy: Numerical Python. \n",
    "fast and efficient multidimensional array object ndarray. Functions for performing element-wise computations with arrays or mathematical operations between arrays. many librarys use ndarray objects, i.e depend on numpy, FORTRAN/C can operate on numpy data without having to reformat/copy data.\n",
    "\n",
    "### Pandas\n",
    "dataframe for data analysis, builds on the idea of numpy. equiped with many useful functions for data manipulation. \n",
    "\n",
    "### matplotlib\n",
    "for producing plots and data vizualisation. good default vizualisation tool.\n",
    "\n",
    "### SciPy\n",
    "collection of packages for scientific computing:\n",
    "- scipy.integrate: Numerical integration routines and differential equation solvers\n",
    "- scipy.linalg: Linear algebra routines and matrix decompositions extending beyond those provided in numpy.linalg\n",
    "- scipy.optimize: Function optimizers (minimizers) and root finding algorithms\n",
    "- scipy.signal: Signal processing tools\n",
    "- scipy.sparse: Sparse matrices and sparse linear system solvers\n",
    "- scipy.special: Wrapper around SPECFUN, a FORTRAN library implementing many common mathematical functions, such as the gamma function\n",
    "- scipy.stats: Standard continuous and discrete probability distributions (density functions, samplers, continuous distribution functions), various statistical tests, and more descriptive statistics\n",
    "\n",
    "### scikit-learn\n",
    "general-purpose ML toolkit (https://scikit-learn.org/stable/ lots of information about methods/algorithms!)\n",
    "- Classification: SVM, nearest neighbors, random forest, logistic regression, etc.\n",
    "- Regression: Lasso, ridge regression, etc.\n",
    "- Clustering: k-means, spectral clustering, etc.\n",
    "- Dimensionality reduction: PCA, feature selection, matrix factorization, etc.\n",
    "- Model selection: Grid search, cross-validation, metrics\n",
    "- Preprocessing: Feature extraction, normalization\n",
    "\n",
    "### statsmodels\n",
    "statistical analysis package, compared to scikit-learn it instead contains classical statistc/econometrics such as\n",
    "- Regression models: linear regression, generalized linear models, robust linear models, linear mixed effects models, etc.\n",
    "- Analysis of variance (ANOVA)\n",
    "- Time series analysis: AR, ARMA, ARIMA, VAR, and other models\n",
    "- Nonparametric methods: Kernel density estimation, kernel regression\n",
    "- Visualization of statistical model results\n",
    "where to focus is on statistical inference, uncertainty estimates and p-values. Scikit-learn is more focused on predictions in comparison.\n",
    "\n",
    "### TensorFlow, PyTorch\n",
    "newer populular projects focused on ML/AI, good next topic after this book."
   ]
  },
  {
   "cell_type": "code",
   "execution_count": null,
   "id": "7b74846a",
   "metadata": {},
   "outputs": [],
   "source": []
  }
 ],
 "metadata": {
  "kernelspec": {
   "display_name": "Python 3 (ipykernel)",
   "language": "python",
   "name": "python3"
  },
  "language_info": {
   "codemirror_mode": {
    "name": "ipython",
    "version": 3
   },
   "file_extension": ".py",
   "mimetype": "text/x-python",
   "name": "python",
   "nbconvert_exporter": "python",
   "pygments_lexer": "ipython3",
   "version": "3.10.6"
  }
 },
 "nbformat": 4,
 "nbformat_minor": 5
}
