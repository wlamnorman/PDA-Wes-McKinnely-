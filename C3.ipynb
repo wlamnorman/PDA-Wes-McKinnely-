{
 "cells": [
  {
   "cell_type": "markdown",
   "id": "f0c65665",
   "metadata": {},
   "source": [
    "# Chapter 3\n",
    "## Built-In Data Structures, Functions, and Files\n"
   ]
  },
  {
   "cell_type": "markdown",
   "id": "4efac088",
   "metadata": {},
   "source": [
    "### Tuple\n",
    "A tuple is a fixed-length, immutable sequence of Python objects which, once assigned, cannot be changed."
   ]
  },
  {
   "cell_type": "code",
   "execution_count": 7,
   "id": "38143c61",
   "metadata": {},
   "outputs": [
    {
     "name": "stdout",
     "output_type": "stream",
     "text": [
      "True\n"
     ]
    },
    {
     "data": {
      "text/plain": [
       "(1, 2, 3)"
      ]
     },
     "execution_count": 7,
     "metadata": {},
     "output_type": "execute_result"
    }
   ],
   "source": [
    "tup = (1,2,3)\n",
    "tup2 = 1,2,3\n",
    "print(tup == tup2)\n",
    "tup"
   ]
  },
  {
   "cell_type": "markdown",
   "id": "68789e06",
   "metadata": {},
   "source": [
    "Further, any iterator or sequence can easily be turned into a tuple as follows"
   ]
  },
  {
   "cell_type": "code",
   "execution_count": 6,
   "id": "296c6eb8",
   "metadata": {},
   "outputs": [
    {
     "data": {
      "text/plain": [
       "(1, 2, 3)"
      ]
     },
     "execution_count": 6,
     "metadata": {},
     "output_type": "execute_result"
    }
   ],
   "source": [
    "tup3 = tuple([1,2,3])\n",
    "tup3"
   ]
  },
  {
   "cell_type": "code",
   "execution_count": 8,
   "id": "3bbd5818",
   "metadata": {},
   "outputs": [
    {
     "data": {
      "text/plain": [
       "('t',\n",
       " 'h',\n",
       " 'i',\n",
       " 's',\n",
       " ' ',\n",
       " 'c',\n",
       " 'a',\n",
       " 'n',\n",
       " ' ',\n",
       " 'a',\n",
       " 'l',\n",
       " 's',\n",
       " 'o',\n",
       " ' ',\n",
       " 'b',\n",
       " 'e',\n",
       " ' ',\n",
       " 'd',\n",
       " 'o',\n",
       " 'n',\n",
       " 'e')"
      ]
     },
     "execution_count": 8,
     "metadata": {},
     "output_type": "execute_result"
    }
   ],
   "source": [
    "tuple('this can also be done')"
   ]
  },
  {
   "cell_type": "code",
   "execution_count": 20,
   "id": "1d05210d",
   "metadata": {},
   "outputs": [
    {
     "name": "stdout",
     "output_type": "stream",
     "text": [
      "1\n",
      "2\n",
      "3\n",
      "1\n",
      "2\n",
      "3\n"
     ]
    }
   ],
   "source": [
    "# Element can be accessed using square brackets\n",
    "for i in range(len(tup)):\n",
    "    print(tup[i])\n",
    "\n",
    "#or since tup is an iterator we may use\n",
    "for i in tup:\n",
    "    print(i)"
   ]
  },
  {
   "cell_type": "code",
   "execution_count": 22,
   "id": "0c8c553c",
   "metadata": {},
   "outputs": [
    {
     "data": {
      "text/plain": [
       "(1, 2, 3, 1, 2, 3)"
      ]
     },
     "execution_count": 22,
     "metadata": {},
     "output_type": "execute_result"
    }
   ],
   "source": [
    "tup + tup2"
   ]
  },
  {
   "cell_type": "code",
   "execution_count": 23,
   "id": "ffb50135",
   "metadata": {},
   "outputs": [
    {
     "data": {
      "text/plain": [
       "(1, 2, 3, 1, 2, 3)"
      ]
     },
     "execution_count": 23,
     "metadata": {},
     "output_type": "execute_result"
    }
   ],
   "source": [
    "tup*2"
   ]
  },
  {
   "cell_type": "code",
   "execution_count": 26,
   "id": "3d8f9a89",
   "metadata": {},
   "outputs": [
    {
     "data": {
      "text/plain": [
       "2"
      ]
     },
     "execution_count": 26,
     "metadata": {},
     "output_type": "execute_result"
    }
   ],
   "source": [
    "a,b,c=tup\n",
    "b"
   ]
  },
  {
   "cell_type": "markdown",
   "id": "15584902",
   "metadata": {},
   "source": [
    "using the above functionality we can easily change variable names which in many languages looks like"
   ]
  },
  {
   "cell_type": "code",
   "execution_count": 29,
   "id": "041f0a8b",
   "metadata": {},
   "outputs": [
    {
     "name": "stdout",
     "output_type": "stream",
     "text": [
      "a = 2\n",
      "b = 1\n"
     ]
    }
   ],
   "source": [
    "a, b = 1, 2\n",
    "temp = a\n",
    "a = b\n",
    "b = temp\n",
    "print('a =', a)\n",
    "print('b =', b)"
   ]
  },
  {
   "cell_type": "code",
   "execution_count": 30,
   "id": "d716cc85",
   "metadata": {},
   "outputs": [
    {
     "name": "stdout",
     "output_type": "stream",
     "text": [
      "a=1, b=2, c=3\n",
      "a=4, b=5, c=6\n",
      "a=7, b=8, c=9\n"
     ]
    }
   ],
   "source": [
    "seq = [(1, 2, 3), (4, 5, 6), (7, 8, 9)]\n",
    "for a, b, c in seq:\n",
    "    print(f'a={a}, b={b}, c={c}')\n"
   ]
  },
  {
   "cell_type": "markdown",
   "id": "2a73994b",
   "metadata": {},
   "source": [
    "the following can be a useful way to pick out the first values of a tuple object"
   ]
  },
  {
   "cell_type": "code",
   "execution_count": 38,
   "id": "072af63b",
   "metadata": {},
   "outputs": [
    {
     "name": "stdout",
     "output_type": "stream",
     "text": [
      "1\n",
      "2\n",
      "[3, 4, 5]\n"
     ]
    }
   ],
   "source": [
    "values = 1,2,3,4,5\n",
    "a,b, *rest = values\n",
    "print(a)\n",
    "print(b)\n",
    "print(rest)"
   ]
  },
  {
   "cell_type": "code",
   "execution_count": 48,
   "id": "e7d33935",
   "metadata": {},
   "outputs": [
    {
     "data": {
      "text/plain": [
       "7"
      ]
     },
     "execution_count": 48,
     "metadata": {},
     "output_type": "execute_result"
    }
   ],
   "source": [
    "# How many times does 3 occur in the following tuple?\n",
    "tuple = (1,3,3,4,1,515,15,31,561,3,3,3,3,3,3131311313)\n",
    "tuple.count(3)"
   ]
  },
  {
   "cell_type": "markdown",
   "id": "1dbdca7b",
   "metadata": {},
   "source": [
    "### List\n",
    "MUTABLE - LENGTH AND CONTENTS CAN BE MODIFIED - AS COMPARED TO TUPLES"
   ]
  },
  {
   "cell_type": "code",
   "execution_count": 50,
   "id": "dd7f2b67",
   "metadata": {},
   "outputs": [
    {
     "data": {
      "text/plain": [
       "[1, 3, 3, 4, 1, 515, 15, 31, 561, 3, 3, 3, 3, 3, 3131311313]"
      ]
     },
     "execution_count": 50,
     "metadata": {},
     "output_type": "execute_result"
    }
   ],
   "source": [
    "# We can make a list based on the contents of a tuple and then modify it\n",
    "l=list(tuple)\n",
    "l"
   ]
  },
  {
   "cell_type": "code",
   "execution_count": 51,
   "id": "53cf320e",
   "metadata": {},
   "outputs": [
    {
     "data": {
      "text/plain": [
       "4"
      ]
     },
     "execution_count": 51,
     "metadata": {},
     "output_type": "execute_result"
    }
   ],
   "source": [
    "l[3]"
   ]
  },
  {
   "cell_type": "code",
   "execution_count": 58,
   "id": "9cb02169",
   "metadata": {},
   "outputs": [
    {
     "data": {
      "text/plain": [
       "[1, 4, 7]"
      ]
     },
     "execution_count": 58,
     "metadata": {},
     "output_type": "execute_result"
    }
   ],
   "source": [
    "# iterator and generator objects can be materialized into list objects using list()\n",
    "list(range(1,10,3))"
   ]
  },
  {
   "cell_type": "code",
   "execution_count": 67,
   "id": "3361a2e1",
   "metadata": {},
   "outputs": [
    {
     "data": {
      "text/plain": [
       "[10, 1, 3, 3, 4, 1, 515, 15, 31, 561, 3, 3, 3, 3, 3, 3131311313]"
      ]
     },
     "execution_count": 67,
     "metadata": {},
     "output_type": "execute_result"
    }
   ],
   "source": [
    "# We can add 10 as the first item in the list, consequently pushing the index up by +1 for all other indices\n",
    "l=list(tuple)\n",
    "l.insert(0,10)\n",
    "l"
   ]
  },
  {
   "cell_type": "code",
   "execution_count": 68,
   "id": "f854089e",
   "metadata": {},
   "outputs": [
    {
     "data": {
      "text/plain": [
       "10"
      ]
     },
     "execution_count": 68,
     "metadata": {},
     "output_type": "execute_result"
    }
   ],
   "source": [
    "# we can remove and return an object in the list with a certain index using pop(index)\n",
    "l.pop(0)"
   ]
  },
  {
   "cell_type": "code",
   "execution_count": 69,
   "id": "a57609af",
   "metadata": {},
   "outputs": [
    {
     "data": {
      "text/plain": [
       "[1, 3, 3, 4, 1, 15, 31, 561, 3, 3, 3, 3, 3, 3131311313]"
      ]
     },
     "execution_count": 69,
     "metadata": {},
     "output_type": "execute_result"
    }
   ],
   "source": [
    "# or simply remove using remove(\"item to be removed\")\n",
    "l.remove(515)\n",
    "l"
   ]
  },
  {
   "cell_type": "code",
   "execution_count": 74,
   "id": "97464596",
   "metadata": {},
   "outputs": [
    {
     "name": "stdout",
     "output_type": "stream",
     "text": [
      "True\n"
     ]
    },
    {
     "data": {
      "text/plain": [
       "True"
      ]
     },
     "execution_count": 74,
     "metadata": {},
     "output_type": "execute_result"
    }
   ],
   "source": [
    "# check to see if a list contains a certain object\n",
    "print(15 in l)\n",
    "3131 not in l"
   ]
  },
  {
   "cell_type": "markdown",
   "id": "6ff70d9a",
   "metadata": {},
   "source": [
    "Checking whether a list contains a value is a lot slower than doing so with dictionaries and sets (to be introduced shortly), as Python makes a linear scan across the values of the list, whereas it can check the others (based on hash tables) in constant time."
   ]
  },
  {
   "cell_type": "code",
   "execution_count": 75,
   "id": "476d0436",
   "metadata": {},
   "outputs": [
    {
     "data": {
      "text/plain": [
       "[1, 2, 3, 'foo']"
      ]
     },
     "execution_count": 75,
     "metadata": {},
     "output_type": "execute_result"
    }
   ],
   "source": [
    "[1,2] + [3, \"foo\"]"
   ]
  },
  {
   "cell_type": "code",
   "execution_count": 86,
   "id": "e6f1f747",
   "metadata": {},
   "outputs": [
    {
     "name": "stdout",
     "output_type": "stream",
     "text": [
      "First list:  [[1, 2, 3], [4, 5, 6], [7, 8, 9], [10, 11, 12], [13, 14, 15], [16, 17, 18], [19, 20, 21], [22, 23, 24], [25, 26, 27], [28, 29, 30], [31, 32, 33], [34, 35, 36], [37, 38, 39], [40, 41, 42], [43, 44, 45], [46, 47, 48], [49, 50, 51], [52, 53, 54], [55, 56, 57], [58, 59, 60], [61, 62, 63], [64, 65, 66], [67, 68, 69], [70, 71, 72], [73, 74, 75], [76, 77, 78], [79, 80, 81], [82, 83, 84], [85, 86, 87], [88, 89, 90], [91, 92, 93], [94, 95, 96], [97, 98, 99], [100, 101, 102], [103, 104, 105], [106, 107, 108], [109, 110, 111], [112, 113, 114], [115, 116, 117], [118, 119, 120], [121, 122, 123], [124, 125, 126], [127, 128, 129], [130, 131, 132], [133, 134, 135], [136, 137, 138], [139, 140, 141], [142, 143, 144], [145, 146, 147], [148, 149, 150], [151, 152, 153], [154, 155, 156], [157, 158, 159], [160, 161, 162], [163, 164, 165], [166, 167, 168], [169, 170, 171], [172, 173, 174], [175, 176, 177], [178, 179, 180], [181, 182, 183], [184, 185, 186], [187, 188, 189], [190, 191, 192], [193, 194, 195], [196, 197, 198], [199, 200, 201], [202, 203, 204], [205, 206, 207], [208, 209, 210], [211, 212, 213], [214, 215, 216], [217, 218, 219], [220, 221, 222], [223, 224, 225], [226, 227, 228], [229, 230, 231], [232, 233, 234], [235, 236, 237], [238, 239, 240], [241, 242, 243], [244, 245, 246], [247, 248, 249], [250, 251, 252], [253, 254, 255], [256, 257, 258], [259, 260, 261], [262, 263, 264], [265, 266, 267], [268, 269, 270], [271, 272, 273], [274, 275, 276], [277, 278, 279], [280, 281, 282], [283, 284, 285], [286, 287, 288], [289, 290, 291], [292, 293, 294], [295, 296, 297], [298, 299, 300]]\n",
      "\n",
      "Second list: [1, 2, 3, 4, 5, 6, 7, 8, 9, 10, 11, 12, 13, 14, 15, 16, 17, 18, 19, 20, 21, 22, 23, 24, 25, 26, 27, 28, 29, 30, 31, 32, 33, 34, 35, 36, 37, 38, 39, 40, 41, 42, 43, 44, 45, 46, 47, 48, 49, 50, 51, 52, 53, 54, 55, 56, 57, 58, 59, 60, 61, 62, 63, 64, 65, 66, 67, 68, 69, 70, 71, 72, 73, 74, 75, 76, 77, 78, 79, 80, 81, 82, 83, 84, 85, 86, 87, 88, 89, 90, 91, 92, 93, 94, 95, 96, 97, 98, 99, 100, 101, 102, 103, 104, 105, 106, 107, 108, 109, 110, 111, 112, 113, 114, 115, 116, 117, 118, 119, 120, 121, 122, 123, 124, 125, 126, 127, 128, 129, 130, 131, 132, 133, 134, 135, 136, 137, 138, 139, 140, 141, 142, 143, 144, 145, 146, 147, 148, 149, 150, 151, 152, 153, 154, 155, 156, 157, 158, 159, 160, 161, 162, 163, 164, 165, 166, 167, 168, 169, 170, 171, 172, 173, 174, 175, 176, 177, 178, 179, 180, 181, 182, 183, 184, 185, 186, 187, 188, 189, 190, 191, 192, 193, 194, 195, 196, 197, 198, 199, 200, 201, 202, 203, 204, 205, 206, 207, 208, 209, 210, 211, 212, 213, 214, 215, 216, 217, 218, 219, 220, 221, 222, 223, 224, 225, 226, 227, 228, 229, 230, 231, 232, 233, 234, 235, 236, 237, 238, 239, 240, 241, 242, 243, 244, 245, 246, 247, 248, 249, 250, 251, 252, 253, 254, 255, 256, 257, 258, 259, 260, 261, 262, 263, 264, 265, 266, 267, 268, 269, 270, 271, 272, 273, 274, 275, 276, 277, 278, 279, 280, 281, 282, 283, 284, 285, 286, 287, 288, 289, 290, 291, 292, 293, 294, 295, 296, 297, 298, 299, 300]\n"
     ]
    }
   ],
   "source": [
    "# Exercise: Make a list of lists as follows [[1,2,3], [4,5,6], [7,8,9],..., [298,299,300]] \n",
    "# and then concatenate all lists into one as [1,2,3,4,5,...,298,299,300]\n",
    "\n",
    "list1 = []\n",
    "temp=[]\n",
    "for i in range(1,300+1):\n",
    "    temp.append(i)\n",
    "    if i % 3 == 0:\n",
    "        list1.append(temp)\n",
    "        temp=[]\n",
    "        \n",
    "print('First list: ', list1)\n",
    "\n",
    "list2 = []\n",
    "for lists in list1:\n",
    "    list2.extend(lists)\n",
    "\n",
    "print('\\nSecond list:', list2)"
   ]
  },
  {
   "cell_type": "markdown",
   "id": "db89f028",
   "metadata": {},
   "source": [
    "Note that list concatenation by addition is a comparatively expensive operation since a new list must be created and the objects copied over. Using extend to append elements to an existing list, especially if you are building up a large list, is usually preferable.\n",
    "\n",
    "That is in the following, alterantive 1 is faster than alternative 2:"
   ]
  },
  {
   "cell_type": "code",
   "execution_count": 88,
   "id": "756b8855",
   "metadata": {},
   "outputs": [],
   "source": [
    "# Alternative 1\n",
    "# everything = []\n",
    "# for chunk in list_of_lists:\n",
    "#     everything.extend(chunk)\n",
    "    \n",
    "# Alternative 2\n",
    "# everything = []\n",
    "# for chunk in list_of_lists:\n",
    "#      everything = everything + chunk"
   ]
  },
  {
   "cell_type": "code",
   "execution_count": 90,
   "id": "2dbcdfe2",
   "metadata": {},
   "outputs": [
    {
     "data": {
      "text/plain": [
       "[1, 2, 3]"
      ]
     },
     "execution_count": 90,
     "metadata": {},
     "output_type": "execute_result"
    }
   ],
   "source": [
    "l = [1,3,2]\n",
    "l.sort()\n",
    "l"
   ]
  },
  {
   "cell_type": "code",
   "execution_count": 94,
   "id": "2887249d",
   "metadata": {},
   "outputs": [
    {
     "name": "stdout",
     "output_type": "stream",
     "text": [
      "[0, 1, 2, 3, 4, 5, 6, 7]\n",
      "[3, 4]\n"
     ]
    }
   ],
   "source": [
    "l = [0,1,2,3,4,5,6,7]\n",
    "print(l[:])\n",
    "print(l[3:5])\n",
    "\n",
    "#obs l[i:j] returns a list of elements with index starting at i and ending at j-1"
   ]
  },
  {
   "cell_type": "code",
   "execution_count": 96,
   "id": "ccb0f6b0",
   "metadata": {},
   "outputs": [
    {
     "data": {
      "text/plain": [
       "'olleh'"
      ]
     },
     "execution_count": 96,
     "metadata": {},
     "output_type": "execute_result"
    }
   ],
   "source": [
    "s = 'hello'\n",
    "s[::-1]\n",
    "#s[start index, stop index, order]"
   ]
  },
  {
   "cell_type": "markdown",
   "id": "39ff2f3e",
   "metadata": {},
   "source": [
    "### Dictionary\n",
    "- aka hash maps/associative arrays\n",
    "- stores collection of key-value pairs that allows value to be accessed using the corresponding key"
   ]
  },
  {
   "cell_type": "code",
   "execution_count": 103,
   "id": "77fb8f71",
   "metadata": {},
   "outputs": [
    {
     "name": "stdout",
     "output_type": "stream",
     "text": [
      "a first thing\n",
      "b [2, 2]\n",
      "10 key, value\n"
     ]
    }
   ],
   "source": [
    "empty_dict = {}\n",
    "dict = {\"a\": 'first thing', 'b': [2,2], 10: 'key, value'}\n",
    "for item in dict: \n",
    "    print(item, dict[item])"
   ]
  },
  {
   "cell_type": "code",
   "execution_count": 111,
   "id": "2f8fdb57",
   "metadata": {},
   "outputs": [
    {
     "name": "stdout",
     "output_type": "stream",
     "text": [
      "{'key': 'value'}\n"
     ]
    }
   ],
   "source": [
    "# we add a pair as follows\n",
    "dict['key'] = 'value'\n",
    "print(dict)\n",
    "\n",
    "# recall: we can use tab for auto-completion to find methods for the dictionary object\n",
    "dict.clear()\n",
    "dict\n",
    "\n",
    "# recall: we call call on a method followed by '?' to get more information about what it does\n",
    "dict.clear?"
   ]
  },
  {
   "cell_type": "markdown",
   "id": "d0441e9c",
   "metadata": {},
   "source": [
    "the 'keys', 'values' and 'items' methods return iterator objects for the dictionary:"
   ]
  },
  {
   "cell_type": "code",
   "execution_count": 113,
   "id": "14346067",
   "metadata": {},
   "outputs": [
    {
     "data": {
      "text/plain": [
       "['a', 'b', 10]"
      ]
     },
     "execution_count": 113,
     "metadata": {},
     "output_type": "execute_result"
    }
   ],
   "source": [
    "dict = {\"a\": 'first thing', 'b': [2,2], 10: 'key, value'}\n",
    "list(dict.keys())"
   ]
  },
  {
   "cell_type": "code",
   "execution_count": 114,
   "id": "d79694c0",
   "metadata": {},
   "outputs": [
    {
     "name": "stdout",
     "output_type": "stream",
     "text": [
      "first thing\n",
      "[2, 2]\n",
      "key, value\n"
     ]
    }
   ],
   "source": [
    "for key in dict.keys():\n",
    "    print(dict[key])"
   ]
  },
  {
   "cell_type": "code",
   "execution_count": 115,
   "id": "3bd577ff",
   "metadata": {},
   "outputs": [
    {
     "data": {
      "text/plain": [
       "[('a', 'first thing'), ('b', [2, 2]), (10, 'key, value')]"
      ]
     },
     "execution_count": 115,
     "metadata": {},
     "output_type": "execute_result"
    }
   ],
   "source": [
    "list(dict.items())"
   ]
  },
  {
   "cell_type": "markdown",
   "id": "38b14059",
   "metadata": {},
   "source": [
    "### creating dictionaries from sequences"
   ]
  },
  {
   "cell_type": "code",
   "execution_count": 116,
   "id": "43715d21",
   "metadata": {},
   "outputs": [],
   "source": [
    "zip?"
   ]
  },
  {
   "cell_type": "code",
   "execution_count": 119,
   "id": "e50b980f",
   "metadata": {},
   "outputs": [
    {
     "data": {
      "text/plain": [
       "{'a': 1, 'b': 2, 'c': 3, 'd': 4, 'e': 5}"
      ]
     },
     "execution_count": 119,
     "metadata": {},
     "output_type": "execute_result"
    }
   ],
   "source": [
    "key_list = ['a','b','c','d','e']\n",
    "value_list = [1,2,3,4,5]\n",
    "\n",
    "mapping = {}\n",
    "for key, value in zip(key_list, value_list):\n",
    "    mapping[key] = value\n",
    "    \n",
    "mapping"
   ]
  },
  {
   "cell_type": "markdown",
   "id": "f5b2568c",
   "metadata": {},
   "source": [
    "### Example use of dictionaries: creating a word dictionary :)"
   ]
  },
  {
   "cell_type": "code",
   "execution_count": 125,
   "id": "73667a7a",
   "metadata": {},
   "outputs": [
    {
     "name": "stdout",
     "output_type": "stream",
     "text": [
      "['apple', 'atom', 'bar', 'bat', 'book']\n"
     ]
    },
    {
     "data": {
      "text/plain": [
       "{'a': ['apple', 'atom'], 'b': ['bar', 'bat', 'book']}"
      ]
     },
     "execution_count": 125,
     "metadata": {},
     "output_type": "execute_result"
    }
   ],
   "source": [
    "words = [\"apple\", \"bat\", \"bar\", \"atom\", \"book\"]\n",
    "dictionary = {}\n",
    "\n",
    "for word in words:\n",
    "    letter = word[0]\n",
    "    if letter not in dictionary:\n",
    "        dictionary[letter] = [word]\n",
    "    else:\n",
    "        dictionary[letter].append(word)\n",
    "        \n",
    "dictionary"
   ]
  }
 ],
 "metadata": {
  "kernelspec": {
   "display_name": "Python 3 (ipykernel)",
   "language": "python",
   "name": "python3"
  },
  "language_info": {
   "codemirror_mode": {
    "name": "ipython",
    "version": 3
   },
   "file_extension": ".py",
   "mimetype": "text/x-python",
   "name": "python",
   "nbconvert_exporter": "python",
   "pygments_lexer": "ipython3",
   "version": "3.10.6"
  }
 },
 "nbformat": 4,
 "nbformat_minor": 5
}
