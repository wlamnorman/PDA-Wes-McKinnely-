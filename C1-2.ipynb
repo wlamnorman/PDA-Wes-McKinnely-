{
 "cells": [
  {
   "cell_type": "markdown",
   "id": "9d0815a1",
   "metadata": {},
   "source": [
    "# Wes McKinney - Python for Data Analysis\n",
    "### Notes and playing around with the material\n",
    "----------------------------------------------------------------------------------------------------"
   ]
  },
  {
   "cell_type": "markdown",
   "id": "64188db5",
   "metadata": {},
   "source": [
    "# Chapter 1\n",
    "\n",
    "### Numpy: Numerical Python. \n",
    "fast and efficient multidimensional array object ndarray. Functions for performing element-wise computations with arrays or mathematical operations between arrays. many librarys use ndarray objects, i.e depend on numpy, FORTRAN/C can operate on numpy data without having to reformat/copy data.\n",
    "\n",
    "### Pandas\n",
    "dataframe for data analysis, builds on the idea of numpy. equiped with many useful functions for data manipulation. \n",
    "\n",
    "### matplotlib\n",
    "for producing plots and data vizualisation. good default vizualisation tool.\n",
    "\n",
    "### SciPy\n",
    "collection of packages for scientific computing:\n",
    "- scipy.integrate: Numerical integration routines and differential equation solvers\n",
    "- scipy.linalg: Linear algebra routines and matrix decompositions extending beyond those provided in numpy.linalg\n",
    "- scipy.optimize: Function optimizers (minimizers) and root finding algorithms\n",
    "- scipy.signal: Signal processing tools\n",
    "- scipy.sparse: Sparse matrices and sparse linear system solvers\n",
    "- scipy.special: Wrapper around SPECFUN, a FORTRAN library implementing many common mathematical functions, such as the gamma function\n",
    "- scipy.stats: Standard continuous and discrete probability distributions (density functions, samplers, continuous distribution functions), various statistical tests, and more descriptive statistics\n",
    "\n",
    "### scikit-learn\n",
    "general-purpose ML toolkit (https://scikit-learn.org/stable/ lots of information about methods/algorithms!)\n",
    "- Classification: SVM, nearest neighbors, random forest, logistic regression, etc.\n",
    "- Regression: Lasso, ridge regression, etc.\n",
    "- Clustering: k-means, spectral clustering, etc.\n",
    "- Dimensionality reduction: PCA, feature selection, matrix factorization, etc.\n",
    "- Model selection: Grid search, cross-validation, metrics\n",
    "- Preprocessing: Feature extraction, normalization\n",
    "\n",
    "### statsmodels\n",
    "statistical analysis package, compared to scikit-learn it instead contains classical statistc/econometrics such as\n",
    "- Regression models: linear regression, generalized linear models, robust linear models, linear mixed effects models, etc.\n",
    "- Analysis of variance (ANOVA)\n",
    "- Time series analysis: AR, ARMA, ARIMA, VAR, and other models\n",
    "- Nonparametric methods: Kernel density estimation, kernel regression\n",
    "- Visualization of statistical model results\n",
    "where to focus is on statistical inference, uncertainty estimates and p-values. Scikit-learn is more focused on predictions in comparison.\n",
    "\n",
    "### TensorFlow, PyTorch\n",
    "newer populular projects focused on ML/AI, good next topic after this book."
   ]
  },
  {
   "cell_type": "code",
   "execution_count": 1,
   "id": "7b74846a",
   "metadata": {},
   "outputs": [],
   "source": [
    "import numpy as np\n",
    "import pandas as pd\n",
    "pd.options.display.max_columns = 20\n",
    "pd.options.display.max_rows = 20\n",
    "pd.options.display.max_colwidth = 80\n",
    "np.set_printoptions(precision=4, suppress=True)"
   ]
  },
  {
   "cell_type": "markdown",
   "id": "640e595a",
   "metadata": {},
   "source": [
    "### We install packages in miniconda:\n",
    "\n",
    "\"conda install the_package\"\n",
    "\n",
    "EX: for the packages we will need later on we write the following (in miniconda prompt):\n",
    "\n",
    "\"conda install lxml beautifulsoup4 html5lib openpyxl \\\n",
    "               requests sqlalchemy seaborn scipy statsmodels \\\n",
    "               patsy scikit-learn pyarrow pytables numba\""
   ]
  },
  {
   "cell_type": "code",
   "execution_count": 4,
   "id": "100507f7",
   "metadata": {},
   "outputs": [
    {
     "ename": "ModuleNotFoundError",
     "evalue": "No module named 'seaborn'",
     "output_type": "error",
     "traceback": [
      "\u001b[1;31m---------------------------------------------------------------------------\u001b[0m",
      "\u001b[1;31mModuleNotFoundError\u001b[0m                       Traceback (most recent call last)",
      "Cell \u001b[1;32mIn [4], line 4\u001b[0m\n\u001b[0;32m      2\u001b[0m \u001b[38;5;28;01mimport\u001b[39;00m \u001b[38;5;21;01mmatplotlib\u001b[39;00m\u001b[38;5;21;01m.\u001b[39;00m\u001b[38;5;21;01mpyplot\u001b[39;00m \u001b[38;5;28;01mas\u001b[39;00m \u001b[38;5;21;01mplt\u001b[39;00m\n\u001b[0;32m      3\u001b[0m \u001b[38;5;28;01mimport\u001b[39;00m \u001b[38;5;21;01mpandas\u001b[39;00m \u001b[38;5;28;01mas\u001b[39;00m \u001b[38;5;21;01mpd\u001b[39;00m\n\u001b[1;32m----> 4\u001b[0m \u001b[38;5;28;01mimport\u001b[39;00m \u001b[38;5;21;01mseaborn\u001b[39;00m \u001b[38;5;28;01mas\u001b[39;00m \u001b[38;5;21;01msns\u001b[39;00m\n\u001b[0;32m      5\u001b[0m \u001b[38;5;28;01mimport\u001b[39;00m \u001b[38;5;21;01mstatsmodels\u001b[39;00m \u001b[38;5;28;01mas\u001b[39;00m \u001b[38;5;21;01msm\u001b[39;00m\n",
      "\u001b[1;31mModuleNotFoundError\u001b[0m: No module named 'seaborn'"
     ]
    }
   ],
   "source": [
    "import numpy as np\n",
    "import matplotlib.pyplot as plt\n",
    "import pandas as pd\n",
    "import seaborn as sns\n",
    "import statsmodels as sm"
   ]
  },
  {
   "cell_type": "markdown",
   "id": "f2076122",
   "metadata": {},
   "source": [
    "# Chapter 2:\n",
    "## tab completion: \n",
    "write something, click <TAB> and a drop-down menu of variable /object, funbction, etc...) matching the string you have typed so far appears."
   ]
  },
  {
   "cell_type": "markdown",
   "id": "e19c7b8c",
   "metadata": {},
   "source": [
    "## introspection: use of '?'\n"
   ]
  },
  {
   "cell_type": "code",
   "execution_count": 16,
   "id": "6bffafac",
   "metadata": {},
   "outputs": [],
   "source": [
    "b = [1,2,3]\n",
    "b?\n",
    "# Gives a pop up window that gives general information about the object!"
   ]
  },
  {
   "cell_type": "code",
   "execution_count": 17,
   "id": "77a87fdc",
   "metadata": {},
   "outputs": [],
   "source": [
    "print?"
   ]
  },
  {
   "cell_type": "code",
   "execution_count": 19,
   "id": "db7b76aa",
   "metadata": {},
   "outputs": [],
   "source": [
    "def add_numbers(a, b):\n",
    "    \"\"\" \n",
    "    Add two numbers together\n",
    "\n",
    "    Returns\n",
    "    -------\n",
    "    the_sum : type of arguments\n",
    "    \"\"\"\n",
    "    return a + b"
   ]
  },
  {
   "cell_type": "markdown",
   "id": "d375eb45",
   "metadata": {},
   "source": [
    "one can now call the introspection method on the function object we just created"
   ]
  },
  {
   "cell_type": "code",
   "execution_count": 23,
   "id": "4d14986f",
   "metadata": {},
   "outputs": [],
   "source": [
    "add_numbers?"
   ]
  },
  {
   "cell_type": "markdown",
   "id": "94c0f441",
   "metadata": {},
   "source": [
    "## Wildcard matching using '*'\n",
    "the following gives all numpy methods with the word load in them: (like % in teradata)"
   ]
  },
  {
   "cell_type": "code",
   "execution_count": 25,
   "id": "39b4b140",
   "metadata": {},
   "outputs": [],
   "source": [
    "np.*load*?"
   ]
  },
  {
   "cell_type": "markdown",
   "id": "c9a6c950",
   "metadata": {},
   "source": [
    "## Language Basics:\n",
    "  \n",
    "### EVERYTHING IS AN OBJECT, VARIABLES ARE POINTERS TO OBJECTS.\n",
    "when using '=' we refer to the object, if a=b then a and b will point to the same object, b will not become a copy of a, it will become a entierly!"
   ]
  },
  {
   "cell_type": "code",
   "execution_count": 33,
   "id": "9cf5fe15",
   "metadata": {},
   "outputs": [
    {
     "name": "stdout",
     "output_type": "stream",
     "text": [
      "[1, 2]\n",
      "[5, 1, 2]\n"
     ]
    }
   ],
   "source": [
    "# EXAMPLE\n",
    "a = [1,2]\n",
    "b = a\n",
    "print(b)\n",
    "#a.*?\n",
    "a.insert(0,5)\n",
    "print(b)"
   ]
  },
  {
   "cell_type": "code",
   "execution_count": 35,
   "id": "432e78a4",
   "metadata": {},
   "outputs": [
    {
     "name": "stdout",
     "output_type": "stream",
     "text": [
      "<class 'list'>\n"
     ]
    },
    {
     "data": {
      "text/plain": [
       "str"
      ]
     },
     "execution_count": 35,
     "metadata": {},
     "output_type": "execute_result"
    }
   ],
   "source": [
    "### Type\n",
    "print(type(a))\n",
    "b = 'strrraaaang'\n",
    "type(b)\n"
   ]
  },
  {
   "cell_type": "markdown",
   "id": "975f9f0a",
   "metadata": {},
   "source": [
    "### Mutable and immutable objects\n",
    "Many objects in Python, such as lists, dictionaries, NumPy arrays, and most user-defined types (classes), are mutable. This means that the object or values that they contain can be modified.\n",
    "Others, like strings and tuples, are immutable, which means their internal data cannot be changed:"
   ]
  },
  {
   "cell_type": "markdown",
   "id": "57c44295",
   "metadata": {},
   "source": [
    "### short on strings"
   ]
  },
  {
   "cell_type": "code",
   "execution_count": 38,
   "id": "47b70af8",
   "metadata": {},
   "outputs": [
    {
     "data": {
      "text/plain": [
       "'\\nThis is a longer string that\\nspans multiple lines\\n'"
      ]
     },
     "execution_count": 38,
     "metadata": {},
     "output_type": "execute_result"
    }
   ],
   "source": [
    "c = \"\"\"\n",
    "This is a longer string that\n",
    "spans multiple lines\n",
    "\"\"\"\n",
    "c"
   ]
  },
  {
   "cell_type": "code",
   "execution_count": 42,
   "id": "436d2b99",
   "metadata": {},
   "outputs": [
    {
     "data": {
      "text/plain": [
       "'this\\\\has \\\\n no\\\\special\\\\characters'"
      ]
     },
     "execution_count": 42,
     "metadata": {},
     "output_type": "execute_result"
    }
   ],
   "source": [
    "s = r\"this\\has \\n no\\special\\characters\" ## adding r\"....\" means we read the string rawly\n",
    "s\n"
   ]
  },
  {
   "cell_type": "markdown",
   "id": "dbfd42ba",
   "metadata": {},
   "source": [
    "### strings can be formated:"
   ]
  },
  {
   "cell_type": "markdown",
   "id": "08f0ae8a",
   "metadata": {},
   "source": [
    "one can build string templates as follows"
   ]
  },
  {
   "cell_type": "code",
   "execution_count": 44,
   "id": "72ff11bc",
   "metadata": {},
   "outputs": [
    {
     "data": {
      "text/plain": [
       "'5.43 apples are worth US$10'"
      ]
     },
     "execution_count": 44,
     "metadata": {},
     "output_type": "execute_result"
    }
   ],
   "source": [
    "template = \"{0:.2f} {1:s} are worth US${2:d}\"\n",
    "\n",
    "#{0:.2f} means to format the first argument as a floating-point number with two decimal places.\n",
    "#{1:s} means to format the second argument as a string.\n",
    "#{2:d} means to format the third argument as an exact integer\n",
    "\n",
    "template.format(5.432, \"apples\", 10)"
   ]
  },
  {
   "cell_type": "markdown",
   "id": "20c091fb",
   "metadata": {},
   "source": [
    "one can also "
   ]
  },
  {
   "cell_type": "code",
   "execution_count": 48,
   "id": "975a6bb0",
   "metadata": {},
   "outputs": [
    {
     "data": {
      "text/plain": [
       "'10 Pesos is worth $0.11'"
      ]
     },
     "execution_count": 48,
     "metadata": {},
     "output_type": "execute_result"
    }
   ],
   "source": [
    "amount = 10\n",
    "currency = 'Pesos'\n",
    "rate = 88.54\n",
    "\n",
    "f\"{amount} {currency} is worth ${amount / rate:.2f}\"\n"
   ]
  },
  {
   "cell_type": "markdown",
   "id": "5b768579",
   "metadata": {},
   "source": [
    "### type casting:"
   ]
  },
  {
   "cell_type": "code",
   "execution_count": 51,
   "id": "149f10f5",
   "metadata": {},
   "outputs": [
    {
     "data": {
      "text/plain": [
       "float"
      ]
     },
     "execution_count": 51,
     "metadata": {},
     "output_type": "execute_result"
    }
   ],
   "source": [
    "s = \"3.14159\"\n",
    "s_float = float(s)\n",
    "type(s_float)"
   ]
  },
  {
   "cell_type": "code",
   "execution_count": 55,
   "id": "0b77797c",
   "metadata": {},
   "outputs": [
    {
     "name": "stdout",
     "output_type": "stream",
     "text": [
      "3\n"
     ]
    },
    {
     "data": {
      "text/plain": [
       "int"
      ]
     },
     "execution_count": 55,
     "metadata": {},
     "output_type": "execute_result"
    }
   ],
   "source": [
    "s_int = int(s_float)\n",
    "print(s_int) ## OBS: int(float) takes only the integer part of the floating number!\n",
    "type(s_int)"
   ]
  },
  {
   "cell_type": "markdown",
   "id": "6e52ded0",
   "metadata": {},
   "source": [
    "### 'None' is the null value in Python\n",
    "we showcase this with the is / is not functions which outputs a boolean indicating if the objects are of the same type, that is 'is' =/= '=='"
   ]
  },
  {
   "cell_type": "code",
   "execution_count": 56,
   "id": "877d61f4",
   "metadata": {},
   "outputs": [
    {
     "data": {
      "text/plain": [
       "True"
      ]
     },
     "execution_count": 56,
     "metadata": {},
     "output_type": "execute_result"
    }
   ],
   "source": [
    "a = None\n",
    "a is None"
   ]
  },
  {
   "cell_type": "code",
   "execution_count": 57,
   "id": "d7b8fbb3",
   "metadata": {},
   "outputs": [
    {
     "data": {
      "text/plain": [
       "True"
      ]
     },
     "execution_count": 57,
     "metadata": {},
     "output_type": "execute_result"
    }
   ],
   "source": [
    "b = 5\n",
    "b is not None"
   ]
  },
  {
   "cell_type": "code",
   "execution_count": 58,
   "id": "340b9341",
   "metadata": {},
   "outputs": [],
   "source": [
    "## EXAMPLE USE OF 'None'\n",
    "def add_and_maybe_multiply(a, b, c=None):\n",
    "    result = a + b\n",
    "\n",
    "    if c is not None:\n",
    "        result = result * c\n",
    "\n",
    "    return result"
   ]
  },
  {
   "cell_type": "code",
   "execution_count": null,
   "id": "cedb1078",
   "metadata": {},
   "outputs": [],
   "source": []
  }
 ],
 "metadata": {
  "kernelspec": {
   "display_name": "Python 3 (ipykernel)",
   "language": "python",
   "name": "python3"
  },
  "language_info": {
   "codemirror_mode": {
    "name": "ipython",
    "version": 3
   },
   "file_extension": ".py",
   "mimetype": "text/x-python",
   "name": "python",
   "nbconvert_exporter": "python",
   "pygments_lexer": "ipython3",
   "version": "3.10.6"
  }
 },
 "nbformat": 4,
 "nbformat_minor": 5
}
